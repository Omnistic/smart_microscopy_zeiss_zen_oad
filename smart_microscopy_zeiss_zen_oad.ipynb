{
 "cells": [
  {
   "cell_type": "code",
   "execution_count": 28,
   "id": "04ca868c-262b-44dc-8b38-c0279eb535a0",
   "metadata": {},
   "outputs": [
    {
     "name": "stdout",
     "output_type": "stream",
     "text": [
      "[62980.0, 48990.0]\n"
     ]
    }
   ],
   "source": [
    "from xml.dom.minidom import parse\n",
    "\n",
    "overview_experiment_filepath = \"C://Users//davnguyen//Documents//smart_microscopy_data//smart_mic_overview.czexp\"\n",
    "\n",
    "overview_experiment = parse(overview_experiment_filepath)\n",
    "\n",
    "tile_flag = overview_experiment.getElementsByTagName(\"TilesSetup\")[0].getAttribute(\"IsActivated\")\n",
    "\n",
    "if not tile_flag:\n",
    "    print(\"Only tiles are supported for now.\")\n",
    "    exit()\n",
    "\n",
    "tile_regions = overview_experiment.getElementsByTagName(\"TileRegion\")\n",
    "\n",
    "for tile_region in tile_regions:\n",
    "    name = tile_region.getAttribute(\"Name\")\n",
    "    center_um = [float(coord) for coord in tile_region.getElementsByTagName(\"CenterPosition\")[0].firstChild.nodeValue.split(\",\")]\n",
    "\n",
    "print(center_um)"
   ]
  },
  {
   "cell_type": "code",
   "execution_count": 41,
   "id": "026859e2",
   "metadata": {},
   "outputs": [],
   "source": [
    "columns = 6\n",
    "rows = 7\n",
    "\n",
    "cam_x_width_px = 4096\n",
    "cam_y_width_px = 3008\n",
    "\n",
    "overlay = 0.1\n",
    "\n",
    "x_overlay_px = overlay*cam_x_width_px\n",
    "y_overlay_px = overlay*cam_y_width_px"
   ]
  },
  {
   "cell_type": "code",
   "execution_count": 48,
   "id": "c6605775",
   "metadata": {},
   "outputs": [
    {
     "name": "stdout",
     "output_type": "stream",
     "text": [
      "65895.16 47506.646\n"
     ]
    }
   ],
   "source": [
    "import math\n",
    "\n",
    "tile_x_size = math.ceil(cam_x_width_px * columns - (columns-1)*x_overlay_px)\n",
    "tile_y_size = math.ceil(cam_y_width_px * rows - (rows-1)*y_overlay_px)\n",
    "\n",
    "physical_px_size_um = 3.45\n",
    "magnification = 5\n",
    "effective_px_size_um = physical_px_size_um / magnification\n",
    "\n",
    "tile_x_size_um = tile_x_size * effective_px_size_um\n",
    "tile_y_size_um = tile_y_size * effective_px_size_um\n",
    "\n",
    "tile_x_relative_center_um = tile_x_size_um/2\n",
    "tile_y_relative_center_um = tile_y_size_um/2\n",
    "\n",
    "x_centroid_um = 10687.320\n",
    "y_centroid_um = 5158.586\n",
    "\n",
    "x_stage_pos_um = center_um[0] + x_centroid_um - tile_x_relative_center_um\n",
    "y_stage_pos_um = center_um[1] + y_centroid_um - tile_y_relative_center_um\n",
    "\n",
    "print(x_stage_pos_um, y_stage_pos_um)"
   ]
  }
 ],
 "metadata": {
  "kernelspec": {
   "display_name": "os_community",
   "language": "python",
   "name": "python3"
  },
  "language_info": {
   "codemirror_mode": {
    "name": "ipython",
    "version": 3
   },
   "file_extension": ".py",
   "mimetype": "text/x-python",
   "name": "python",
   "nbconvert_exporter": "python",
   "pygments_lexer": "ipython3",
   "version": "3.10.14"
  }
 },
 "nbformat": 4,
 "nbformat_minor": 5
}
