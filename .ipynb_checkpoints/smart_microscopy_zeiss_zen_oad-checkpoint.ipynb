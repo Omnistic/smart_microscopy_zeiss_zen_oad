{
 "cells": [
  {
   "cell_type": "code",
   "execution_count": 8,
   "id": "04ca868c-262b-44dc-8b38-c0279eb535a0",
   "metadata": {},
   "outputs": [
    {
     "ename": "IndexError",
     "evalue": "list index out of range",
     "output_type": "error",
     "traceback": [
      "\u001b[1;31m---------------------------------------------------------------------------\u001b[0m",
      "\u001b[1;31mIndexError\u001b[0m                                Traceback (most recent call last)",
      "Cell \u001b[1;32mIn[8], line 6\u001b[0m\n\u001b[0;32m      3\u001b[0m overview_experiment_filepath \u001b[38;5;241m=\u001b[39m \u001b[38;5;124m\"\u001b[39m\u001b[38;5;124mC://Users//davnguyen//Documents//smart_microscopy_data//smart_mic_overview.czexp\u001b[39m\u001b[38;5;124m\"\u001b[39m\n\u001b[0;32m      5\u001b[0m overview_experiment \u001b[38;5;241m=\u001b[39m parse(overview_experiment_filepath)\n\u001b[1;32m----> 6\u001b[0m \u001b[38;5;28mprint\u001b[39m(\u001b[43moverview_experiment\u001b[49m\u001b[38;5;241;43m.\u001b[39;49m\u001b[43mgetElementsByTagName\u001b[49m\u001b[43m(\u001b[49m\u001b[38;5;124;43m\"\u001b[39;49m\u001b[38;5;124;43mitem\u001b[39;49m\u001b[38;5;124;43m\"\u001b[39;49m\u001b[43m)\u001b[49m\u001b[43m[\u001b[49m\u001b[38;5;241;43m0\u001b[39;49m\u001b[43m]\u001b[49m\u001b[38;5;241m.\u001b[39mfirstChild\u001b[38;5;241m.\u001b[39mnodeValue)\n",
      "\u001b[1;31mIndexError\u001b[0m: list index out of range"
     ]
    }
   ],
   "source": [
    "from xml.dom.minidom import parse\n",
    "\n",
    "overview_experiment_filepath = \"C://Users//davnguyen//Documents//smart_microscopy_data//smart_mic_overview.czexp\"\n",
    "\n",
    "overview_experiment = parse(overview_experiment_filepath)\n",
    "print(overview_experiment.getElementsByTagName(\"TilesSetup\")[0].firstChild.nodeValue)"
   ]
  }
 ],
 "metadata": {
  "kernelspec": {
   "display_name": "Python 3 (ipykernel)",
   "language": "python",
   "name": "python3"
  },
  "language_info": {
   "codemirror_mode": {
    "name": "ipython",
    "version": 3
   },
   "file_extension": ".py",
   "mimetype": "text/x-python",
   "name": "python",
   "nbconvert_exporter": "python",
   "pygments_lexer": "ipython3",
   "version": "3.13.0"
  }
 },
 "nbformat": 4,
 "nbformat_minor": 5
}
